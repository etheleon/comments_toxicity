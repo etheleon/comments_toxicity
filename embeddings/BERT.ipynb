{
 "cells": [
  {
   "cell_type": "markdown",
   "metadata": {},
   "source": [
    "# Exploratory Data Analysis\n",
    "\n",
    "We will be using embedding representation of the sentence using BERT embeddings."
   ]
  },
  {
   "cell_type": "markdown",
   "metadata": {},
   "source": [
    "# BERT as a service\n",
    "\n",
    "We will be running the full training dataset's sentences through [BERT](https://github.com/hanxiao/bert-as-service)."
   ]
  },
  {
   "cell_type": "code",
   "execution_count": null,
   "metadata": {},
   "outputs": [],
   "source": [
    "# Install the necessary package\n",
    "\n",
    "! pip install bert-serving-server  # server\n",
    "! pip install bert-serving-client  # client, independent of `bert-serving-server`"
   ]
  },
  {
   "cell_type": "markdown",
   "metadata": {},
   "source": [
    "Run BERT server elsewhere:\n",
    "\n",
    "```\n",
    "MODEL_DIR=/home/jovyan/work/bert/cased_L-12_H-768_A-12\n",
    "bert-serving-start -model_dir $MODEL_DIR -num_worker=2 -max_seq_len 512 -max_batch_size 128\n",
    "```"
   ]
  },
  {
   "cell_type": "code",
   "execution_count": 77,
   "metadata": {},
   "outputs": [],
   "source": [
    "import os\n",
    "os.chdir(\"/home/jovyan/work/data\")\n",
    "\n",
    "import numpy as np\n",
    "\n",
    "import re\n",
    "import pandas as pd\n",
    "\n",
    "from tqdm import tqdm\n",
    "from bert_serving.client import BertClient\n",
    "\n",
    "import pickle as pkl\n",
    "\n",
    "from tensorflow.keras.utils import to_categorical\n",
    "\n",
    "import rpy2\n",
    "%load_ext rpy2.ipython"
   ]
  },
  {
   "cell_type": "code",
   "execution_count": null,
   "metadata": {},
   "outputs": [],
   "source": [
    "bc = BertClient()"
   ]
  },
  {
   "cell_type": "markdown",
   "metadata": {},
   "source": [
    "Lets read the full training dataset downloaded from KAGGLE"
   ]
  },
  {
   "cell_type": "code",
   "execution_count": 3,
   "metadata": {},
   "outputs": [],
   "source": [
    "df = pd.read_csv(\"train.csv\")"
   ]
  },
  {
   "cell_type": "code",
   "execution_count": 23,
   "metadata": {},
   "outputs": [],
   "source": [
    "def minimal_processing(sentences):\n",
    "    return (sentences\n",
    "                 .apply(lambda sentence:re.sub(\"[^\\w]\",\" \",sentence))\n",
    "                 .apply(lambda sentence: np.NaN if re.match('^\\s+$', sentence) else sentence))"
   ]
  },
  {
   "cell_type": "code",
   "execution_count": 24,
   "metadata": {},
   "outputs": [],
   "source": [
    "df[\"processed_text\"] = minimal_processing(df.comment_text)\n",
    "df = df[~df[\"processed_text\"].isnull()]"
   ]
  },
  {
   "cell_type": "code",
   "execution_count": 46,
   "metadata": {},
   "outputs": [
    {
     "data": {
      "text/plain": [
       "['article_id',\n",
       " 'asian',\n",
       " 'atheist',\n",
       " 'bisexual',\n",
       " 'black',\n",
       " 'buddhist',\n",
       " 'christian',\n",
       " 'comment_text',\n",
       " 'created_date',\n",
       " 'disagree',\n",
       " 'female',\n",
       " 'funny',\n",
       " 'heterosexual',\n",
       " 'hindu',\n",
       " 'homosexual_gay_or_lesbian',\n",
       " 'id',\n",
       " 'identity_annotator_count',\n",
       " 'identity_attack',\n",
       " 'insult',\n",
       " 'intellectual_or_learning_disability',\n",
       " 'jewish',\n",
       " 'latino',\n",
       " 'likes',\n",
       " 'male',\n",
       " 'muslim',\n",
       " 'obscene',\n",
       " 'other_disability',\n",
       " 'other_gender',\n",
       " 'other_race_or_ethnicity',\n",
       " 'other_religion',\n",
       " 'other_sexual_orientation',\n",
       " 'parent_id',\n",
       " 'physical_disability',\n",
       " 'processed_text',\n",
       " 'psychiatric_or_mental_illness',\n",
       " 'publication_id',\n",
       " 'rating',\n",
       " 'sad',\n",
       " 'severe_toxicity',\n",
       " 'sexual_explicit',\n",
       " 'target',\n",
       " 'threat',\n",
       " 'toxicity_annotator_count',\n",
       " 'transgender',\n",
       " 'white',\n",
       " 'wow']"
      ]
     },
     "execution_count": 46,
     "metadata": {},
     "output_type": "execute_result"
    }
   ],
   "source": [
    "sorted(df.columns.tolist())"
   ]
  },
  {
   "cell_type": "code",
   "execution_count": 54,
   "metadata": {},
   "outputs": [],
   "source": [
    "y = np.where(df['target'] >= 0.5, True, False) * 1\n",
    "y_binary = to_categorical(y)\n",
    "\n",
    "print(\"{:.2f}%\".format(int(y_binary[:, 0].sum()) / int(y_binary.shape[0])))"
   ]
  },
  {
   "cell_type": "code",
   "execution_count": 80,
   "metadata": {},
   "outputs": [],
   "source": [
    "ys = np.array(df.target.tolist())"
   ]
  },
  {
   "cell_type": "code",
   "execution_count": 126,
   "metadata": {},
   "outputs": [
    {
     "data": {
      "image/png": "[encoded data removed]"
     },
     "metadata": {},
     "output_type": "display_data"
    }
   ],
   "source": [
    "%%R -i ys -u in -w 10 -h 3\n",
    "\n",
    "library(ggplot2)\n",
    "library(tidyverse)\n",
    "library(cowplot)\n",
    "library(magrittr)\n",
    "\n",
    "df = data.frame(target = ys) %>% mutate(class = factor(ifelse(target > 0.5, \"toxic\", \"not_toxic\")))\n",
    "\n",
    "\n",
    "df %>% ggplot(aes(target, fill=class, group=class)) + \n",
    "    geom_histogram() + \n",
    "    facet_wrap(~class, ncol=2) +\n",
    "    xlim(c(0, 1)) +\n",
    "    labs(x=\"Score\", y=\"Counts\") +\n",
    "    scale_fill_brewer(\"Category\", palette=\"Set1\")"
   ]
  },
  {
   "cell_type": "code",
   "execution_count": 42,
   "metadata": {},
   "outputs": [],
   "source": [
    "df.to_csv(\"trained_processed.csv.gz\", compression=\"gzip\")"
   ]
  },
  {
   "cell_type": "code",
   "execution_count": null,
   "metadata": {},
   "outputs": [],
   "source": [
    "embeddings = bc.encode(df.processed_text)"
   ]
  },
  {
   "cell_type": "code",
   "execution_count": 17,
   "metadata": {},
   "outputs": [],
   "source": [
    "# pickle 4 lets you overcome the hard 4 Gb limit\n",
    "\n",
    "pkl.dump(embeddings, open(\"embeddings.pkl\",\"wb\"), protocol=4)"
   ]
  },
  {
   "cell_type": "code",
   "execution_count": 127,
   "metadata": {},
   "outputs": [
    {
     "data": {
      "text/plain": [
       "True"
      ]
     },
     "execution_count": 127,
     "metadata": {},
     "output_type": "execute_result"
    }
   ],
   "source": [
    "df.shape[0] == embeddings.shape[0]"
   ]
  },
  {
   "cell_type": "markdown",
   "metadata": {},
   "source": [
    "## Classification \n",
    "\n",
    "\\begin{equation}\n",
    "X=\n",
    "\\begin{cases}\n",
    "    toxic, & \\text{if}\\ target > 0.5 \\\\\n",
    "    neutral, & \\text{otherwise}\n",
    "\\end{cases}\n",
    "\\end{equation}"
   ]
  },
  {
   "cell_type": "code",
   "execution_count": null,
   "metadata": {},
   "outputs": [],
   "source": []
  }
 ],
 "metadata": {
  "kernelspec": {
   "display_name": "Python 3",
   "language": "python",
   "name": "python3"
  },
  "language_info": {
   "codemirror_mode": {
    "name": "ipython",
    "version": 3
   },
   "file_extension": ".py",
   "mimetype": "text/x-python",
   "name": "python",
   "nbconvert_exporter": "python",
   "pygments_lexer": "ipython3",
   "version": "3.6.8"
  },
  "toc": {
   "base_numbering": 1,
   "nav_menu": {},
   "number_sections": true,
   "sideBar": true,
   "skip_h1_title": false,
   "title_cell": "Table of Contents",
   "title_sidebar": "Contents",
   "toc_cell": false,
   "toc_position": {},
   "toc_section_display": true,
   "toc_window_display": false
  }
 },
 "nbformat": 4,
 "nbformat_minor": 2
}
